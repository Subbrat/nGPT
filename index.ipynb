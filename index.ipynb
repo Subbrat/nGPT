{
 "cells": [
  {
   "cell_type": "code",
   "execution_count": null,
   "id": "2dcf883a",
   "metadata": {},
   "outputs": [],
   "source": [
    "# delete non-image files\n",
    "import os\n",
    "# Path to the folder\n",
    "folder_path = './butterflies/'\n",
    "# Allowed file extensions\n",
    "allowed_extensions = ('.png', '.jpeg', '.jpg')\n",
    "# Walk through all the files and subdirectories\n",
    "for root, dirs, files in os.walk(folder_path):\n",
    "    for filename in files:\n",
    "        file_path = os.path.join(root, filename)\n",
    "        # Check if the file's extension is not in the allowed list\n",
    "        if not filename.lower().endswith(allowed_extensions):\n",
    "            os.remove(file_path)\n",
    "            print(f\"Deleted: {file_path}\")\n"
   ]
  },
  {
   "cell_type": "code",
   "execution_count": null,
   "id": "eabed419",
   "metadata": {},
   "outputs": [],
   "source": [
    "# move image files\n",
    "import os\n",
    "import shutil\n",
    "\n",
    "# Paths\n",
    "source_dir = './dogs'\n",
    "target_dir = './dogs/cat'\n",
    "\n",
    "# Make sure the target directory exists\n",
    "if not os.path.exists(target_dir):\n",
    "    os.makedirs(target_dir)\n",
    "\n",
    "# File counter\n",
    "counter = 1\n",
    "\n",
    "# Supported file extensions\n",
    "valid_extensions = ['.jpg', '.jpeg', '.png']\n",
    "\n",
    "# Walk through the directory structure\n",
    "for root, dirs, files in os.walk(source_dir):\n",
    "    # Skip the target directory itself to avoid moving files from there\n",
    "    if root == target_dir:\n",
    "        continue\n",
    "\n",
    "    for file in files:\n",
    "        # Check if file has a valid extension\n",
    "        if any(file.lower().endswith(ext) for ext in valid_extensions):\n",
    "            # Construct full file path\n",
    "            file_path = os.path.join(root, file)\n",
    "\n",
    "            # Get file extension\n",
    "            _, ext = os.path.splitext(file)\n",
    "\n",
    "            # Construct new file name\n",
    "            new_file_name = f\"{counter}{ext}\"\n",
    "            new_file_path = os.path.join(target_dir, new_file_name)\n",
    "\n",
    "            # Move the file to the target directory and rename it\n",
    "            shutil.move(file_path, new_file_path)\n",
    "            print(f\"Moved: {file_path} -> {new_file_path}\")\n",
    "\n",
    "            # Increment the counter for the next file\n",
    "            counter += 1\n"
   ]
  }
 ],
 "metadata": {
  "kernelspec": {
   "display_name": "Python 3",
   "language": "python",
   "name": "python3"
  },
  "language_info": {
   "codemirror_mode": {
    "name": "ipython",
    "version": 3
   },
   "file_extension": ".py",
   "mimetype": "text/x-python",
   "name": "python",
   "nbconvert_exporter": "python",
   "pygments_lexer": "ipython3",
   "version": "3.9.6"
  }
 },
 "nbformat": 4,
 "nbformat_minor": 5
}
